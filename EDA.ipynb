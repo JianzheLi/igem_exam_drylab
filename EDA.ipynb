{
 "cells": [
  {
   "cell_type": "code",
   "execution_count": 1,
   "metadata": {},
   "outputs": [
    {
     "name": "stderr",
     "output_type": "stream",
     "text": [
      "c:\\Users\\Lenovo\\.conda\\envs\\lijianzhe\\lib\\site-packages\\tqdm\\auto.py:21: TqdmWarning: IProgress not found. Please update jupyter and ipywidgets. See https://ipywidgets.readthedocs.io/en/stable/user_install.html\n",
      "  from .autonotebook import tqdm as notebook_tqdm\n"
     ]
    }
   ],
   "source": [
    "from datasets import load_dataset\n",
    "import os\n",
    "import numpy as np\n",
    "import torch"
   ]
  },
  {
   "cell_type": "code",
   "execution_count": 2,
   "metadata": {},
   "outputs": [],
   "source": [
    "ds = load_dataset(\"dnagpt/dna_core_promoter\",cache_dir=\"./data\")"
   ]
  },
  {
   "cell_type": "code",
   "execution_count": 7,
   "metadata": {},
   "outputs": [
    {
     "name": "stdout",
     "output_type": "stream",
     "text": [
      "DatasetDict({\n",
      "    train: Dataset({\n",
      "        features: ['sequence', 'label'],\n",
      "        num_rows: 59196\n",
      "    })\n",
      "})\n"
     ]
    }
   ],
   "source": [
    "print(ds)"
   ]
  },
  {
   "cell_type": "code",
   "execution_count": 15,
   "metadata": {},
   "outputs": [
    {
     "name": "stdout",
     "output_type": "stream",
     "text": [
      "59196\n"
     ]
    }
   ],
   "source": [
    "seq=ds[\"train\"]\n",
    "print(len(seq))"
   ]
  },
  {
   "cell_type": "code",
   "execution_count": 12,
   "metadata": {},
   "outputs": [
    {
     "name": "stdout",
     "output_type": "stream",
     "text": [
      "all 70 bp\n"
     ]
    }
   ],
   "source": [
    "a=1\n",
    "for i in seq:\n",
    "    length = len(i[\"sequence\"])\n",
    "    if(length != 70):\n",
    "        print(f\"not all 70 bp,such as {i}\")\n",
    "        a=0\n",
    "        break\n",
    "if a==1:\n",
    "    print(\"all 70 bp\")"
   ]
  },
  {
   "cell_type": "code",
   "execution_count": 17,
   "metadata": {},
   "outputs": [
    {
     "name": "stdout",
     "output_type": "stream",
     "text": [
      "(59196, 70, 4)\n"
     ]
    }
   ],
   "source": [
    "num_samples = len(seq)\n",
    "seq_length = 70\n",
    "onehot_features = np.zeros((num_samples, seq_length, 4), dtype=np.uint8)\n",
    "print(onehot_features.shape)"
   ]
  },
  {
   "cell_type": "code",
   "execution_count": 22,
   "metadata": {},
   "outputs": [],
   "source": [
    "bp_to_idx = {'A':0, 'T':1, 'C':2, 'G':3}\n",
    "for i, s in enumerate(seq):\n",
    "    for j, base in enumerate(s[\"sequence\"]): \n",
    "        #print(len(s[\"sequence\"])) \n",
    "        if base in bp_to_idx:\n",
    "            onehot_features[i, j, bp_to_idx[base]] = 1\n",
    "        else:\n",
    "            print(\"wrong\")\n",
    "            break"
   ]
  },
  {
   "cell_type": "code",
   "execution_count": null,
   "metadata": {},
   "outputs": [
    {
     "name": "stdout",
     "output_type": "stream",
     "text": [
      "(59196, 70, 4)\n"
     ]
    }
   ],
   "source": [
    "print(onehot_features.shape)\n",
    "labels = np.array(ds[\"label\"])"
   ]
  },
  {
   "cell_type": "code",
   "execution_count": null,
   "metadata": {},
   "outputs": [
    {
     "data": {
      "text/plain": [
       "1"
      ]
     },
     "execution_count": 41,
     "metadata": {},
     "output_type": "execute_result"
    }
   ],
   "source": [
    "len(seq['label'])\n",
    "labels = np.array(seq['label'])\n",
    "labels.sum()"
   ]
  },
  {
   "cell_type": "code",
   "execution_count": 34,
   "metadata": {},
   "outputs": [],
   "source": [
    "np.savez_compressed('./data/dna_data.npz', features=onehot_features, labels=labels)"
   ]
  },
  {
   "cell_type": "code",
   "execution_count": 38,
   "metadata": {},
   "outputs": [
    {
     "name": "stdout",
     "output_type": "stream",
     "text": [
      "valid:\n",
      "features: (59196, 70, 4)\n",
      "labels: (59196,)\n"
     ]
    }
   ],
   "source": [
    "loaded = np.load('./data/dna_data.npz')\n",
    "print(\"valid:\")\n",
    "print(\"features:\", loaded['features'].shape)\n",
    "print(\"labels:\", loaded['labels'].shape)"
   ]
  }
 ],
 "metadata": {
  "kernelspec": {
   "display_name": "lijianzhe",
   "language": "python",
   "name": "python3"
  },
  "language_info": {
   "codemirror_mode": {
    "name": "ipython",
    "version": 3
   },
   "file_extension": ".py",
   "mimetype": "text/x-python",
   "name": "python",
   "nbconvert_exporter": "python",
   "pygments_lexer": "ipython3",
   "version": "3.9.21"
  }
 },
 "nbformat": 4,
 "nbformat_minor": 2
}
